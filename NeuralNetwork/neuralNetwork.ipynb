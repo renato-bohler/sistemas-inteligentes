{
 "cells": [
  {
   "cell_type": "code",
   "execution_count": 201,
   "metadata": {},
   "outputs": [],
   "source": [
    "from pandas import DataFrame, read_csv\n",
    "import pandas as pd"
   ]
  },
  {
   "cell_type": "code",
   "execution_count": 202,
   "metadata": {},
   "outputs": [
    {
     "data": {
      "text/html": [
       "<div>\n",
       "<style scoped>\n",
       "    .dataframe tbody tr th:only-of-type {\n",
       "        vertical-align: middle;\n",
       "    }\n",
       "\n",
       "    .dataframe tbody tr th {\n",
       "        vertical-align: top;\n",
       "    }\n",
       "\n",
       "    .dataframe thead th {\n",
       "        text-align: right;\n",
       "    }\n",
       "</style>\n",
       "<table border=\"1\" class=\"dataframe\">\n",
       "  <thead>\n",
       "    <tr style=\"text-align: right;\">\n",
       "      <th></th>\n",
       "      <th>0.0</th>\n",
       "      <th>0.0.1</th>\n",
       "      <th>0.0.2</th>\n",
       "      <th>0</th>\n",
       "      <th>11.01938630231983</th>\n",
       "      <th>3.3977230072979054</th>\n",
       "      <th>3.52495742092446</th>\n",
       "    </tr>\n",
       "  </thead>\n",
       "  <tbody>\n",
       "    <tr>\n",
       "      <th>0</th>\n",
       "      <td>0.0</td>\n",
       "      <td>0.0</td>\n",
       "      <td>0.0</td>\n",
       "      <td>0.0</td>\n",
       "      <td>6.346492</td>\n",
       "      <td>3.448256</td>\n",
       "      <td>3.524957</td>\n",
       "    </tr>\n",
       "    <tr>\n",
       "      <th>1</th>\n",
       "      <td>0.0</td>\n",
       "      <td>0.0</td>\n",
       "      <td>0.0</td>\n",
       "      <td>0.0</td>\n",
       "      <td>4.631166</td>\n",
       "      <td>3.468037</td>\n",
       "      <td>3.524957</td>\n",
       "    </tr>\n",
       "    <tr>\n",
       "      <th>2</th>\n",
       "      <td>0.0</td>\n",
       "      <td>0.0</td>\n",
       "      <td>0.0</td>\n",
       "      <td>0.0</td>\n",
       "      <td>3.365291</td>\n",
       "      <td>3.483078</td>\n",
       "      <td>3.524957</td>\n",
       "    </tr>\n",
       "    <tr>\n",
       "      <th>3</th>\n",
       "      <td>0.0</td>\n",
       "      <td>0.0</td>\n",
       "      <td>0.0</td>\n",
       "      <td>0.0</td>\n",
       "      <td>2.336458</td>\n",
       "      <td>3.495585</td>\n",
       "      <td>3.524957</td>\n",
       "    </tr>\n",
       "    <tr>\n",
       "      <th>4</th>\n",
       "      <td>0.0</td>\n",
       "      <td>0.0</td>\n",
       "      <td>0.0</td>\n",
       "      <td>0.0</td>\n",
       "      <td>1.673043</td>\n",
       "      <td>3.503787</td>\n",
       "      <td>3.524957</td>\n",
       "    </tr>\n",
       "  </tbody>\n",
       "</table>\n",
       "</div>"
      ],
      "text/plain": [
       "   0.0  0.0.1  0.0.2    0  11.01938630231983  3.3977230072979054  \\\n",
       "0  0.0    0.0    0.0  0.0           6.346492            3.448256   \n",
       "1  0.0    0.0    0.0  0.0           4.631166            3.468037   \n",
       "2  0.0    0.0    0.0  0.0           3.365291            3.483078   \n",
       "3  0.0    0.0    0.0  0.0           2.336458            3.495585   \n",
       "4  0.0    0.0    0.0  0.0           1.673043            3.503787   \n",
       "\n",
       "   3.52495742092446  \n",
       "0          3.524957  \n",
       "1          3.524957  \n",
       "2          3.524957  \n",
       "3          3.524957  \n",
       "4          3.524957  "
      ]
     },
     "execution_count": 202,
     "metadata": {},
     "output_type": "execute_result"
    }
   ],
   "source": [
    "data = pd.read_csv('robot_walk.csv')\n",
    "data.head()"
   ]
  },
  {
   "cell_type": "code",
   "execution_count": 203,
   "metadata": {},
   "outputs": [
    {
     "data": {
      "text/html": [
       "<div>\n",
       "<style scoped>\n",
       "    .dataframe tbody tr th:only-of-type {\n",
       "        vertical-align: middle;\n",
       "    }\n",
       "\n",
       "    .dataframe tbody tr th {\n",
       "        vertical-align: top;\n",
       "    }\n",
       "\n",
       "    .dataframe thead th {\n",
       "        text-align: right;\n",
       "    }\n",
       "</style>\n",
       "<table border=\"1\" class=\"dataframe\">\n",
       "  <thead>\n",
       "    <tr style=\"text-align: right;\">\n",
       "      <th></th>\n",
       "      <th>0.0</th>\n",
       "      <th>0.0.1</th>\n",
       "      <th>0.0.2</th>\n",
       "      <th>0</th>\n",
       "    </tr>\n",
       "  </thead>\n",
       "  <tbody>\n",
       "    <tr>\n",
       "      <th>0</th>\n",
       "      <td>0.0</td>\n",
       "      <td>0.0</td>\n",
       "      <td>0.0</td>\n",
       "      <td>0.0</td>\n",
       "    </tr>\n",
       "    <tr>\n",
       "      <th>1</th>\n",
       "      <td>0.0</td>\n",
       "      <td>0.0</td>\n",
       "      <td>0.0</td>\n",
       "      <td>0.0</td>\n",
       "    </tr>\n",
       "    <tr>\n",
       "      <th>2</th>\n",
       "      <td>0.0</td>\n",
       "      <td>0.0</td>\n",
       "      <td>0.0</td>\n",
       "      <td>0.0</td>\n",
       "    </tr>\n",
       "    <tr>\n",
       "      <th>3</th>\n",
       "      <td>0.0</td>\n",
       "      <td>0.0</td>\n",
       "      <td>0.0</td>\n",
       "      <td>0.0</td>\n",
       "    </tr>\n",
       "    <tr>\n",
       "      <th>4</th>\n",
       "      <td>0.0</td>\n",
       "      <td>0.0</td>\n",
       "      <td>0.0</td>\n",
       "      <td>0.0</td>\n",
       "    </tr>\n",
       "  </tbody>\n",
       "</table>\n",
       "</div>"
      ],
      "text/plain": [
       "   0.0  0.0.1  0.0.2    0\n",
       "0  0.0    0.0    0.0  0.0\n",
       "1  0.0    0.0    0.0  0.0\n",
       "2  0.0    0.0    0.0  0.0\n",
       "3  0.0    0.0    0.0  0.0\n",
       "4  0.0    0.0    0.0  0.0"
      ]
     },
     "execution_count": 203,
     "metadata": {},
     "output_type": "execute_result"
    }
   ],
   "source": [
    "sensors = data.iloc[:,[0,1,2,3]]\n",
    "sensors.head()"
   ]
  },
  {
   "cell_type": "code",
   "execution_count": 204,
   "metadata": {},
   "outputs": [
    {
     "data": {
      "text/html": [
       "<div>\n",
       "<style scoped>\n",
       "    .dataframe tbody tr th:only-of-type {\n",
       "        vertical-align: middle;\n",
       "    }\n",
       "\n",
       "    .dataframe tbody tr th {\n",
       "        vertical-align: top;\n",
       "    }\n",
       "\n",
       "    .dataframe thead th {\n",
       "        text-align: right;\n",
       "    }\n",
       "</style>\n",
       "<table border=\"1\" class=\"dataframe\">\n",
       "  <thead>\n",
       "    <tr style=\"text-align: right;\">\n",
       "      <th></th>\n",
       "      <th>11.01938630231983</th>\n",
       "    </tr>\n",
       "  </thead>\n",
       "  <tbody>\n",
       "    <tr>\n",
       "      <th>0</th>\n",
       "      <td>6.346492</td>\n",
       "    </tr>\n",
       "    <tr>\n",
       "      <th>1</th>\n",
       "      <td>4.631166</td>\n",
       "    </tr>\n",
       "    <tr>\n",
       "      <th>2</th>\n",
       "      <td>3.365291</td>\n",
       "    </tr>\n",
       "    <tr>\n",
       "      <th>3</th>\n",
       "      <td>2.336458</td>\n",
       "    </tr>\n",
       "    <tr>\n",
       "      <th>4</th>\n",
       "      <td>1.673043</td>\n",
       "    </tr>\n",
       "  </tbody>\n",
       "</table>\n",
       "</div>"
      ],
      "text/plain": [
       "   11.01938630231983\n",
       "0           6.346492\n",
       "1           4.631166\n",
       "2           3.365291\n",
       "3           2.336458\n",
       "4           1.673043"
      ]
     },
     "execution_count": 204,
     "metadata": {},
     "output_type": "execute_result"
    }
   ],
   "source": [
    "orientation = data.iloc[:,[4]]\n",
    "orientation.head()"
   ]
  },
  {
   "cell_type": "code",
   "execution_count": 205,
   "metadata": {},
   "outputs": [
    {
     "data": {
      "text/html": [
       "<div>\n",
       "<style scoped>\n",
       "    .dataframe tbody tr th:only-of-type {\n",
       "        vertical-align: middle;\n",
       "    }\n",
       "\n",
       "    .dataframe tbody tr th {\n",
       "        vertical-align: top;\n",
       "    }\n",
       "\n",
       "    .dataframe thead th {\n",
       "        text-align: right;\n",
       "    }\n",
       "</style>\n",
       "<table border=\"1\" class=\"dataframe\">\n",
       "  <thead>\n",
       "    <tr style=\"text-align: right;\">\n",
       "      <th></th>\n",
       "      <th>3.3977230072979054</th>\n",
       "      <th>3.52495742092446</th>\n",
       "    </tr>\n",
       "  </thead>\n",
       "  <tbody>\n",
       "    <tr>\n",
       "      <th>0</th>\n",
       "      <td>3.448256</td>\n",
       "      <td>3.524957</td>\n",
       "    </tr>\n",
       "    <tr>\n",
       "      <th>1</th>\n",
       "      <td>3.468037</td>\n",
       "      <td>3.524957</td>\n",
       "    </tr>\n",
       "    <tr>\n",
       "      <th>2</th>\n",
       "      <td>3.483078</td>\n",
       "      <td>3.524957</td>\n",
       "    </tr>\n",
       "    <tr>\n",
       "      <th>3</th>\n",
       "      <td>3.495585</td>\n",
       "      <td>3.524957</td>\n",
       "    </tr>\n",
       "    <tr>\n",
       "      <th>4</th>\n",
       "      <td>3.503787</td>\n",
       "      <td>3.524957</td>\n",
       "    </tr>\n",
       "  </tbody>\n",
       "</table>\n",
       "</div>"
      ],
      "text/plain": [
       "   3.3977230072979054  3.52495742092446\n",
       "0            3.448256          3.524957\n",
       "1            3.468037          3.524957\n",
       "2            3.483078          3.524957\n",
       "3            3.495585          3.524957\n",
       "4            3.503787          3.524957"
      ]
     },
     "execution_count": 205,
     "metadata": {},
     "output_type": "execute_result"
    }
   ],
   "source": [
    "labels = data.iloc[:,[5,6]]\n",
    "labels.head()"
   ]
  },
  {
   "cell_type": "code",
   "execution_count": 206,
   "metadata": {},
   "outputs": [],
   "source": [
    "from sklearn import preprocessing\n",
    "\n",
    "sensors_values = sensors.values\n",
    "min_max_sensors_scaler = preprocessing.MinMaxScaler()\n",
    "x_sensors_scaled = min_max_sensors_scaler.fit_transform(sensors_values)"
   ]
  },
  {
   "cell_type": "code",
   "execution_count": 207,
   "metadata": {},
   "outputs": [],
   "source": [
    "orientation_values = orientation.values\n",
    "min_max_orientation_scaler = preprocessing.MinMaxScaler()\n",
    "x_orientation_scaled = min_max_orientation_scaler.fit_transform(orientation_values)"
   ]
  },
  {
   "cell_type": "code",
   "execution_count": 208,
   "metadata": {},
   "outputs": [],
   "source": [
    "labels_values = labels.values\n",
    "min_max_labels_scaler = preprocessing.MinMaxScaler()\n",
    "labels_scaled = min_max_labels_scaler.fit_transform(labels_values)"
   ]
  },
  {
   "cell_type": "code",
   "execution_count": 209,
   "metadata": {},
   "outputs": [],
   "source": [
    "import numpy as np\n",
    "X = np.c_[x_sensors_scaled, x_orientation_scaled]"
   ]
  },
  {
   "cell_type": "code",
   "execution_count": 212,
   "metadata": {},
   "outputs": [],
   "source": [
    "\n",
    "from sklearn.model_selection import train_test_split\n",
    "\n",
    "X_train, X_validation, y_train, y_validation = train_test_split(X, labels_scaled, test_size=0.2)"
   ]
  },
  {
   "cell_type": "code",
   "execution_count": 220,
   "metadata": {},
   "outputs": [
    {
     "name": "stdout",
     "output_type": "stream",
     "text": [
      "Fitting 5 folds for each of 10 candidates, totalling 50 fits\n",
      "[CV] hidden_layer_sizes=(19, 81) .....................................\n",
      "[CV] ...................... hidden_layer_sizes=(19, 81), total=   0.4s\n",
      "[CV] hidden_layer_sizes=(19, 81) .....................................\n"
     ]
    },
    {
     "name": "stderr",
     "output_type": "stream",
     "text": [
      "[Parallel(n_jobs=1)]: Done   1 out of   1 | elapsed:    0.4s remaining:    0.0s\n"
     ]
    },
    {
     "name": "stdout",
     "output_type": "stream",
     "text": [
      "[CV] ...................... hidden_layer_sizes=(19, 81), total=   0.3s\n",
      "[CV] hidden_layer_sizes=(19, 81) .....................................\n",
      "[CV] ...................... hidden_layer_sizes=(19, 81), total=   0.4s\n",
      "[CV] hidden_layer_sizes=(19, 81) .....................................\n",
      "[CV] ...................... hidden_layer_sizes=(19, 81), total=   0.4s\n",
      "[CV] hidden_layer_sizes=(19, 81) .....................................\n",
      "[CV] ...................... hidden_layer_sizes=(19, 81), total=   0.4s\n",
      "[CV] hidden_layer_sizes=(59, 40) .....................................\n",
      "[CV] ...................... hidden_layer_sizes=(59, 40), total=   0.4s\n",
      "[CV] hidden_layer_sizes=(59, 40) .....................................\n",
      "[CV] ...................... hidden_layer_sizes=(59, 40), total=   0.4s\n",
      "[CV] hidden_layer_sizes=(59, 40) .....................................\n",
      "[CV] ...................... hidden_layer_sizes=(59, 40), total=   0.4s\n",
      "[CV] hidden_layer_sizes=(59, 40) .....................................\n",
      "[CV] ...................... hidden_layer_sizes=(59, 40), total=   0.3s\n",
      "[CV] hidden_layer_sizes=(59, 40) .....................................\n",
      "[CV] ...................... hidden_layer_sizes=(59, 40), total=   0.4s\n",
      "[CV] hidden_layer_sizes=(47, 63) .....................................\n",
      "[CV] ...................... hidden_layer_sizes=(47, 63), total=   0.5s\n",
      "[CV] hidden_layer_sizes=(47, 63) .....................................\n",
      "[CV] ...................... hidden_layer_sizes=(47, 63), total=   0.4s\n",
      "[CV] hidden_layer_sizes=(47, 63) .....................................\n",
      "[CV] ...................... hidden_layer_sizes=(47, 63), total=   0.4s\n",
      "[CV] hidden_layer_sizes=(47, 63) .....................................\n",
      "[CV] ...................... hidden_layer_sizes=(47, 63), total=   0.4s\n",
      "[CV] hidden_layer_sizes=(47, 63) .....................................\n",
      "[CV] ...................... hidden_layer_sizes=(47, 63), total=   0.5s\n",
      "[CV] hidden_layer_sizes=(86, 64) .....................................\n",
      "[CV] ...................... hidden_layer_sizes=(86, 64), total=   0.6s\n",
      "[CV] hidden_layer_sizes=(86, 64) .....................................\n",
      "[CV] ...................... hidden_layer_sizes=(86, 64), total=   0.6s\n",
      "[CV] hidden_layer_sizes=(86, 64) .....................................\n",
      "[CV] ...................... hidden_layer_sizes=(86, 64), total=   0.6s\n",
      "[CV] hidden_layer_sizes=(86, 64) .....................................\n",
      "[CV] ...................... hidden_layer_sizes=(86, 64), total=   0.6s\n",
      "[CV] hidden_layer_sizes=(86, 64) .....................................\n",
      "[CV] ...................... hidden_layer_sizes=(86, 64), total=   0.7s\n",
      "[CV] hidden_layer_sizes=(69, 74) .....................................\n",
      "[CV] ...................... hidden_layer_sizes=(69, 74), total=   0.6s\n",
      "[CV] hidden_layer_sizes=(69, 74) .....................................\n",
      "[CV] ...................... hidden_layer_sizes=(69, 74), total=   0.8s\n",
      "[CV] hidden_layer_sizes=(69, 74) .....................................\n",
      "[CV] ...................... hidden_layer_sizes=(69, 74), total=   0.8s\n",
      "[CV] hidden_layer_sizes=(69, 74) .....................................\n",
      "[CV] ...................... hidden_layer_sizes=(69, 74), total=   0.9s\n",
      "[CV] hidden_layer_sizes=(69, 74) .....................................\n",
      "[CV] ...................... hidden_layer_sizes=(69, 74), total=   0.8s\n",
      "[CV] hidden_layer_sizes=(13, 100) ....................................\n",
      "[CV] ..................... hidden_layer_sizes=(13, 100), total=   0.5s\n",
      "[CV] hidden_layer_sizes=(13, 100) ....................................\n",
      "[CV] ..................... hidden_layer_sizes=(13, 100), total=   0.5s\n",
      "[CV] hidden_layer_sizes=(13, 100) ....................................\n",
      "[CV] ..................... hidden_layer_sizes=(13, 100), total=   0.7s\n",
      "[CV] hidden_layer_sizes=(13, 100) ....................................\n",
      "[CV] ..................... hidden_layer_sizes=(13, 100), total=   0.7s\n",
      "[CV] hidden_layer_sizes=(13, 100) ....................................\n",
      "[CV] ..................... hidden_layer_sizes=(13, 100), total=   0.9s\n",
      "[CV] hidden_layer_sizes=(64, 77) .....................................\n",
      "[CV] ...................... hidden_layer_sizes=(64, 77), total=   1.4s\n",
      "[CV] hidden_layer_sizes=(64, 77) .....................................\n",
      "[CV] ...................... hidden_layer_sizes=(64, 77), total=   1.3s\n",
      "[CV] hidden_layer_sizes=(64, 77) .....................................\n",
      "[CV] ...................... hidden_layer_sizes=(64, 77), total=   1.5s\n",
      "[CV] hidden_layer_sizes=(64, 77) .....................................\n",
      "[CV] ...................... hidden_layer_sizes=(64, 77), total=   1.8s\n",
      "[CV] hidden_layer_sizes=(64, 77) .....................................\n",
      "[CV] ...................... hidden_layer_sizes=(64, 77), total=   1.7s\n",
      "[CV] hidden_layer_sizes=(29, 68) .....................................\n",
      "[CV] ...................... hidden_layer_sizes=(29, 68), total=   0.9s\n",
      "[CV] hidden_layer_sizes=(29, 68) .....................................\n",
      "[CV] ...................... hidden_layer_sizes=(29, 68), total=   1.1s\n",
      "[CV] hidden_layer_sizes=(29, 68) .....................................\n",
      "[CV] ...................... hidden_layer_sizes=(29, 68), total=   1.0s\n",
      "[CV] hidden_layer_sizes=(29, 68) .....................................\n",
      "[CV] ...................... hidden_layer_sizes=(29, 68), total=   0.8s\n",
      "[CV] hidden_layer_sizes=(29, 68) .....................................\n",
      "[CV] ...................... hidden_layer_sizes=(29, 68), total=   0.8s\n",
      "[CV] hidden_layer_sizes=(84, 1) ......................................\n",
      "[CV] ....................... hidden_layer_sizes=(84, 1), total=   0.0s\n",
      "[CV] hidden_layer_sizes=(84, 1) ......................................\n",
      "[CV] ....................... hidden_layer_sizes=(84, 1), total=   0.0s\n",
      "[CV] hidden_layer_sizes=(84, 1) ......................................\n",
      "[CV] ....................... hidden_layer_sizes=(84, 1), total=   0.0s\n",
      "[CV] hidden_layer_sizes=(84, 1) ......................................\n",
      "[CV] ....................... hidden_layer_sizes=(84, 1), total=   0.6s\n",
      "[CV] hidden_layer_sizes=(84, 1) ......................................\n",
      "[CV] ....................... hidden_layer_sizes=(84, 1), total=   0.5s\n",
      "[CV] hidden_layer_sizes=(30, 2) ......................................\n",
      "[CV] ....................... hidden_layer_sizes=(30, 2), total=   0.4s\n",
      "[CV] hidden_layer_sizes=(30, 2) ......................................\n",
      "[CV] ....................... hidden_layer_sizes=(30, 2), total=   0.4s\n",
      "[CV] hidden_layer_sizes=(30, 2) ......................................\n",
      "[CV] ....................... hidden_layer_sizes=(30, 2), total=   0.4s\n",
      "[CV] hidden_layer_sizes=(30, 2) ......................................\n",
      "[CV] ....................... hidden_layer_sizes=(30, 2), total=   0.5s\n",
      "[CV] hidden_layer_sizes=(30, 2) ......................................\n",
      "[CV] ....................... hidden_layer_sizes=(30, 2), total=   0.0s\n"
     ]
    },
    {
     "name": "stderr",
     "output_type": "stream",
     "text": [
      "[Parallel(n_jobs=1)]: Done  50 out of  50 | elapsed:   31.7s finished\n"
     ]
    },
    {
     "data": {
      "text/plain": [
       "{'mean_fit_time': array([0.3714787 , 0.38597693, 0.44002752, 0.63874059, 0.76346679,\n",
       "        0.65768785, 1.53366394, 0.9221385 , 0.24861164, 0.33425989]),\n",
       " 'std_fit_time': array([0.03791899, 0.03568725, 0.03273294, 0.00933622, 0.07443381,\n",
       "        0.13607494, 0.19740117, 0.10498092, 0.27312034, 0.17407248]),\n",
       " 'mean_score_time': array([0.00067086, 0.00062957, 0.00061188, 0.00060539, 0.00067654,\n",
       "        0.00077024, 0.00259004, 0.00070124, 0.00066862, 0.00062246]),\n",
       " 'std_score_time': array([1.11927242e-04, 8.91978170e-05, 7.05728015e-05, 6.08672873e-06,\n",
       "        8.43999884e-05, 1.97157640e-04, 3.16186317e-03, 8.28843116e-05,\n",
       "        7.14017432e-05, 9.42389237e-05]),\n",
       " 'param_hidden_layer_sizes': masked_array(data=[(19, 81), (59, 40), (47, 63), (86, 64), (69, 74),\n",
       "                    (13, 100), (64, 77), (29, 68), (84, 1), (30, 2)],\n",
       "              mask=[False, False, False, False, False, False, False, False,\n",
       "                    False, False],\n",
       "        fill_value='?',\n",
       "             dtype=object),\n",
       " 'params': [{'hidden_layer_sizes': (19, 81)},\n",
       "  {'hidden_layer_sizes': (59, 40)},\n",
       "  {'hidden_layer_sizes': (47, 63)},\n",
       "  {'hidden_layer_sizes': (86, 64)},\n",
       "  {'hidden_layer_sizes': (69, 74)},\n",
       "  {'hidden_layer_sizes': (13, 100)},\n",
       "  {'hidden_layer_sizes': (64, 77)},\n",
       "  {'hidden_layer_sizes': (29, 68)},\n",
       "  {'hidden_layer_sizes': (84, 1)},\n",
       "  {'hidden_layer_sizes': (30, 2)}],\n",
       " 'split0_test_score': array([ 8.54163335e-01,  8.61547644e-01,  8.88162726e-01,  8.67893811e-01,\n",
       "         8.91941756e-01,  8.61130929e-01,  8.77367365e-01,  8.69444060e-01,\n",
       "        -2.40566256e-04,  8.13701698e-01]),\n",
       " 'split1_test_score': array([ 0.93388095,  0.90488494,  0.92532385,  0.91941726,  0.91095488,\n",
       "         0.9088105 ,  0.93659695,  0.93780323, -0.00143177,  0.50477628]),\n",
       " 'split2_test_score': array([ 0.94238664,  0.94266482,  0.94249972,  0.94126297,  0.95052687,\n",
       "         0.93714088,  0.95393794,  0.94168826, -0.00768169,  0.58137208]),\n",
       " 'split3_test_score': array([0.79803408, 0.88840941, 0.89023718, 0.8719373 , 0.86185788,\n",
       "        0.872569  , 0.85738665, 0.872671  , 0.53810932, 0.82449441]),\n",
       " 'split4_test_score': array([ 0.94025022,  0.89622212,  0.93685266,  0.88856319,  0.93503973,\n",
       "         0.89420751,  0.92200947,  0.86911028,  0.60282527, -0.00545135]),\n",
       " 'mean_test_score': array([0.89374305, 0.89874579, 0.91661523, 0.89781491, 0.91006422,\n",
       "        0.89477176, 0.90945967, 0.89814337, 0.22631611, 0.54377862]),\n",
       " 'std_test_score': array([0.05808085, 0.02631913, 0.02306836, 0.02830164, 0.03134987,\n",
       "        0.0268969 , 0.03636966, 0.03401316, 0.28175385, 0.30207543]),\n",
       " 'rank_test_score': array([ 8,  4,  1,  6,  2,  7,  3,  5, 10,  9], dtype=int32),\n",
       " 'split0_train_score': array([ 8.96431604e-01,  9.33833172e-01,  9.37551126e-01,  9.39301666e-01,\n",
       "         9.35495492e-01,  9.38730763e-01,  9.43841431e-01,  9.33355968e-01,\n",
       "        -6.87776283e-16,  8.85967148e-01]),\n",
       " 'split1_train_score': array([ 9.35356456e-01,  8.99414386e-01,  9.41155526e-01,  9.18103301e-01,\n",
       "         9.12799106e-01,  9.13803979e-01,  9.24173017e-01,  9.24609037e-01,\n",
       "        -5.96053907e-08,  5.15830890e-01]),\n",
       " 'split2_train_score': array([ 9.24636801e-01,  9.00025812e-01,  9.23964156e-01,  8.99483956e-01,\n",
       "         9.20718602e-01,  9.06188844e-01,  9.25665371e-01,  9.17926523e-01,\n",
       "        -9.51721605e-15,  5.78418411e-01]),\n",
       " 'split3_train_score': array([0.88023355, 0.92402918, 0.94337858, 0.91130487, 0.90595529,\n",
       "        0.91051339, 0.91020019, 0.91567802, 0.59552867, 0.88713295]),\n",
       " 'split4_train_score': array([ 9.30722433e-01,  9.02178497e-01,  9.30973659e-01,  9.20475749e-01,\n",
       "         9.27878906e-01,  8.89154301e-01,  9.45134553e-01,  8.86404834e-01,\n",
       "         5.83655382e-01, -1.25656056e-14]),\n",
       " 'mean_train_score': array([0.91347617, 0.91189621, 0.93540461, 0.91773391, 0.92056948,\n",
       "        0.91167826, 0.92980291, 0.91559488, 0.2358368 , 0.57346988]),\n",
       " 'std_train_score': array([0.02143049, 0.01427988, 0.00709623, 0.01301703, 0.01048989,\n",
       "        0.01596982, 0.01315463, 0.01583801, 0.28886434, 0.32503954])}"
      ]
     },
     "execution_count": 220,
     "metadata": {},
     "output_type": "execute_result"
    }
   ],
   "source": [
    "import random\n",
    "\n",
    "from scipy.stats import reciprocal\n",
    "from sklearn.model_selection import GridSearchCV\n",
    "from sklearn.neural_network.multilayer_perceptron import MLPRegressor\n",
    "\n",
    "neural_network = MLPRegressor(activation='relu', solver='lbfgs', early_stopping=True)\n",
    "\n",
    "params = {\n",
    "\t\"hidden_layer_sizes\": [(random.randint(0, 100), random.randint(0, 100)) for k in range(10) ]\n",
    "\t}\n",
    "\n",
    "grid_search = GridSearchCV(neural_network, param_grid=params, cv=5, return_train_score=True, n_jobs=1, verbose=2)\n",
    "\n",
    "scores = grid_search.fit(X_train, y_train)\n",
    "scores.cv_results_"
   ]
  },
  {
   "cell_type": "code",
   "execution_count": 221,
   "metadata": {},
   "outputs": [
    {
     "data": {
      "text/plain": [
       "MLPRegressor(activation='relu', alpha=0.0001, batch_size='auto', beta_1=0.9,\n",
       "       beta_2=0.999, early_stopping=True, epsilon=1e-08,\n",
       "       hidden_layer_sizes=(47, 63), learning_rate='constant',\n",
       "       learning_rate_init=0.001, max_iter=200, momentum=0.9,\n",
       "       nesterovs_momentum=True, power_t=0.5, random_state=None,\n",
       "       shuffle=True, solver='lbfgs', tol=0.0001, validation_fraction=0.1,\n",
       "       verbose=False, warm_start=False)"
      ]
     },
     "execution_count": 221,
     "metadata": {},
     "output_type": "execute_result"
    }
   ],
   "source": [
    "scores.best_estimator_\n"
   ]
  },
  {
   "cell_type": "code",
   "execution_count": 222,
   "metadata": {},
   "outputs": [
    {
     "data": {
      "text/plain": [
       "0.9166152271095046"
      ]
     },
     "execution_count": 222,
     "metadata": {},
     "output_type": "execute_result"
    }
   ],
   "source": [
    "scores.best_score_"
   ]
  },
  {
   "cell_type": "code",
   "execution_count": 232,
   "metadata": {},
   "outputs": [],
   "source": [
    "from sklearn.metrics import explained_variance_score\n",
    "\n",
    "predictions = grid_search.predict(X_validation)"
   ]
  },
  {
   "cell_type": "code",
   "execution_count": 233,
   "metadata": {},
   "outputs": [],
   "source": [
    "precision = explained_variance_score(predictions, y_validation)"
   ]
  },
  {
   "cell_type": "code",
   "execution_count": 234,
   "metadata": {},
   "outputs": [
    {
     "data": {
      "text/plain": [
       "0.9501318845047286"
      ]
     },
     "execution_count": 234,
     "metadata": {},
     "output_type": "execute_result"
    }
   ],
   "source": [
    "precision"
   ]
  },
  {
   "cell_type": "code",
   "execution_count": 235,
   "metadata": {},
   "outputs": [],
   "source": [
    "import pickle\n",
    "pickle.dump(grid_search, open('model.sav', 'wb'))"
   ]
  },
  {
   "cell_type": "code",
   "execution_count": 240,
   "metadata": {},
   "outputs": [],
   "source": [
    "pickle.dump(min_max_labels_scaler, open('labels_scaler', 'wb'))\n",
    "pickle.dump(min_max_orientation_scaler, open('orientation_scaler', 'wb'))\n",
    "pickle.dump(min_max_sensors_scaler, open('sensors_scaler', 'wb'))"
   ]
  }
 ],
 "metadata": {
  "kernelspec": {
   "display_name": "Python 3",
   "language": "python",
   "name": "python3"
  },
  "language_info": {
   "codemirror_mode": {
    "name": "ipython",
    "version": 3
   },
   "file_extension": ".py",
   "mimetype": "text/x-python",
   "name": "python",
   "nbconvert_exporter": "python",
   "pygments_lexer": "ipython3",
   "version": "3.6.5"
  }
 },
 "nbformat": 4,
 "nbformat_minor": 1
}
